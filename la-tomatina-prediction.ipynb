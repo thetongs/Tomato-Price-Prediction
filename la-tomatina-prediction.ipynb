{
 "cells": [
  {
   "cell_type": "code",
   "execution_count": 1,
   "id": "b048ca5c",
   "metadata": {
    "execution": {
     "iopub.execute_input": "2023-03-28T08:28:45.991285Z",
     "iopub.status.busy": "2023-03-28T08:28:45.990835Z",
     "iopub.status.idle": "2023-03-28T08:31:20.688952Z",
     "shell.execute_reply": "2023-03-28T08:31:20.687479Z"
    },
    "papermill": {
     "duration": 154.70953,
     "end_time": "2023-03-28T08:31:20.692229",
     "exception": false,
     "start_time": "2023-03-28T08:28:45.982699",
     "status": "completed"
    },
    "tags": []
   },
   "outputs": [
    {
     "name": "stdout",
     "output_type": "stream",
     "text": [
      "Collecting pystan~=2.14\r\n",
      "  Downloading pystan-2.19.1.1-cp37-cp37m-manylinux1_x86_64.whl (67.3 MB)\r\n",
      "\u001b[2K     \u001b[90m━━━━━━━━━━━━━━━━━━━━━━━━━━━━━━━━━━━━━━━━\u001b[0m \u001b[32m67.3/67.3 MB\u001b[0m \u001b[31m16.0 MB/s\u001b[0m eta \u001b[36m0:00:00\u001b[0m\r\n",
      "\u001b[?25hRequirement already satisfied: numpy>=1.7 in /opt/conda/lib/python3.7/site-packages (from pystan~=2.14) (1.21.6)\r\n",
      "Requirement already satisfied: Cython!=0.25.1,>=0.22 in /opt/conda/lib/python3.7/site-packages (from pystan~=2.14) (0.29.33)\r\n",
      "Installing collected packages: pystan\r\n",
      "Successfully installed pystan-2.19.1.1\r\n",
      "\u001b[33mWARNING: Running pip as the 'root' user can result in broken permissions and conflicting behaviour with the system package manager. It is recommended to use a virtual environment instead: https://pip.pypa.io/warnings/venv\u001b[0m\u001b[33m\r\n",
      "\u001b[0mCollecting fbprophet\r\n",
      "  Downloading fbprophet-0.7.1.tar.gz (64 kB)\r\n",
      "\u001b[2K     \u001b[90m━━━━━━━━━━━━━━━━━━━━━━━━━━━━━━━━━━━━━━━━\u001b[0m \u001b[32m64.0/64.0 kB\u001b[0m \u001b[31m3.1 MB/s\u001b[0m eta \u001b[36m0:00:00\u001b[0m\r\n",
      "\u001b[?25h  Preparing metadata (setup.py) ... \u001b[?25l-\b \bdone\r\n",
      "\u001b[?25hRequirement already satisfied: Cython>=0.22 in /opt/conda/lib/python3.7/site-packages (from fbprophet) (0.29.33)\r\n",
      "Collecting cmdstanpy==0.9.5\r\n",
      "  Downloading cmdstanpy-0.9.5-py3-none-any.whl (37 kB)\r\n",
      "Requirement already satisfied: pystan>=2.14 in /opt/conda/lib/python3.7/site-packages (from fbprophet) (2.19.1.1)\r\n",
      "Requirement already satisfied: numpy>=1.15.4 in /opt/conda/lib/python3.7/site-packages (from fbprophet) (1.21.6)\r\n",
      "Requirement already satisfied: pandas>=1.0.4 in /opt/conda/lib/python3.7/site-packages (from fbprophet) (1.3.5)\r\n",
      "Requirement already satisfied: matplotlib>=2.0.0 in /opt/conda/lib/python3.7/site-packages (from fbprophet) (3.5.3)\r\n",
      "Requirement already satisfied: LunarCalendar>=0.0.9 in /opt/conda/lib/python3.7/site-packages (from fbprophet) (0.0.9)\r\n",
      "Requirement already satisfied: convertdate>=2.1.2 in /opt/conda/lib/python3.7/site-packages (from fbprophet) (2.4.0)\r\n",
      "Requirement already satisfied: holidays>=0.10.2 in /opt/conda/lib/python3.7/site-packages (from fbprophet) (0.19)\r\n",
      "Requirement already satisfied: setuptools-git>=1.2 in /opt/conda/lib/python3.7/site-packages (from fbprophet) (1.2)\r\n",
      "Requirement already satisfied: python-dateutil>=2.8.0 in /opt/conda/lib/python3.7/site-packages (from fbprophet) (2.8.2)\r\n",
      "Requirement already satisfied: tqdm>=4.36.1 in /opt/conda/lib/python3.7/site-packages (from fbprophet) (4.64.1)\r\n",
      "Requirement already satisfied: pymeeus<=1,>=0.3.13 in /opt/conda/lib/python3.7/site-packages (from convertdate>=2.1.2->fbprophet) (0.5.12)\r\n",
      "Requirement already satisfied: korean-lunar-calendar in /opt/conda/lib/python3.7/site-packages (from holidays>=0.10.2->fbprophet) (0.3.1)\r\n",
      "Requirement already satisfied: hijri-converter in /opt/conda/lib/python3.7/site-packages (from holidays>=0.10.2->fbprophet) (2.2.4)\r\n",
      "Requirement already satisfied: ephem>=3.7.5.3 in /opt/conda/lib/python3.7/site-packages (from LunarCalendar>=0.0.9->fbprophet) (4.1.4)\r\n",
      "Requirement already satisfied: pytz in /opt/conda/lib/python3.7/site-packages (from LunarCalendar>=0.0.9->fbprophet) (2022.7.1)\r\n",
      "Requirement already satisfied: packaging>=20.0 in /opt/conda/lib/python3.7/site-packages (from matplotlib>=2.0.0->fbprophet) (23.0)\r\n",
      "Requirement already satisfied: pyparsing>=2.2.1 in /opt/conda/lib/python3.7/site-packages (from matplotlib>=2.0.0->fbprophet) (3.0.9)\r\n",
      "Requirement already satisfied: cycler>=0.10 in /opt/conda/lib/python3.7/site-packages (from matplotlib>=2.0.0->fbprophet) (0.11.0)\r\n",
      "Requirement already satisfied: kiwisolver>=1.0.1 in /opt/conda/lib/python3.7/site-packages (from matplotlib>=2.0.0->fbprophet) (1.4.4)\r\n",
      "Requirement already satisfied: pillow>=6.2.0 in /opt/conda/lib/python3.7/site-packages (from matplotlib>=2.0.0->fbprophet) (9.4.0)\r\n",
      "Requirement already satisfied: fonttools>=4.22.0 in /opt/conda/lib/python3.7/site-packages (from matplotlib>=2.0.0->fbprophet) (4.38.0)\r\n",
      "Requirement already satisfied: six>=1.5 in /opt/conda/lib/python3.7/site-packages (from python-dateutil>=2.8.0->fbprophet) (1.16.0)\r\n",
      "Requirement already satisfied: typing-extensions in /opt/conda/lib/python3.7/site-packages (from kiwisolver>=1.0.1->matplotlib>=2.0.0->fbprophet) (4.4.0)\r\n",
      "Building wheels for collected packages: fbprophet\r\n",
      "  Building wheel for fbprophet (setup.py) ... \u001b[?25l-\b \b\\\b \bdone\r\n",
      "\u001b[?25h  Created wheel for fbprophet: filename=fbprophet-0.7.1-py3-none-any.whl size=9434399 sha256=753246330d97e6cf4f84531a2eb9a992e7d057c144f4b7b8f6fe391e6a6473e5\r\n",
      "  Stored in directory: /root/.cache/pip/wheels/fc/66/ad/951ba2b4576f7364afe7aeea8b0036e38d2179d6773f16d69f\r\n",
      "Successfully built fbprophet\r\n",
      "Installing collected packages: cmdstanpy, fbprophet\r\n",
      "  Attempting uninstall: cmdstanpy\r\n",
      "    Found existing installation: cmdstanpy 1.1.0\r\n",
      "    Uninstalling cmdstanpy-1.1.0:\r\n",
      "      Successfully uninstalled cmdstanpy-1.1.0\r\n",
      "\u001b[31mERROR: pip's dependency resolver does not currently take into account all the packages that are installed. This behaviour is the source of the following dependency conflicts.\r\n",
      "prophet 1.1.1 requires cmdstanpy>=1.0.4, but you have cmdstanpy 0.9.5 which is incompatible.\u001b[0m\u001b[31m\r\n",
      "\u001b[0mSuccessfully installed cmdstanpy-0.9.5 fbprophet-0.7.1\r\n",
      "\u001b[33mWARNING: Running pip as the 'root' user can result in broken permissions and conflicting behaviour with the system package manager. It is recommended to use a virtual environment instead: https://pip.pypa.io/warnings/venv\u001b[0m\u001b[33m\r\n",
      "\u001b[0m"
     ]
    }
   ],
   "source": [
    "# install/load dependencies\n",
    "!pip install pystan~=2.14\n",
    "!pip install fbprophet\n",
    "import numpy as np\n",
    "import pandas as pd\n",
    "import matplotlib.pyplot as plt\n",
    "import seaborn as sns\n",
    "from fbprophet import Prophet"
   ]
  },
  {
   "cell_type": "code",
   "execution_count": 2,
   "id": "53bd1592",
   "metadata": {
    "execution": {
     "iopub.execute_input": "2023-03-28T08:31:20.710058Z",
     "iopub.status.busy": "2023-03-28T08:31:20.709164Z",
     "iopub.status.idle": "2023-03-28T08:31:20.765889Z",
     "shell.execute_reply": "2023-03-28T08:31:20.764335Z"
    },
    "papermill": {
     "duration": 0.068846,
     "end_time": "2023-03-28T08:31:20.768980",
     "exception": false,
     "start_time": "2023-03-28T08:31:20.700134",
     "status": "completed"
    },
    "tags": []
   },
   "outputs": [
    {
     "data": {
      "text/html": [
       "<div>\n",
       "<style scoped>\n",
       "    .dataframe tbody tr th:only-of-type {\n",
       "        vertical-align: middle;\n",
       "    }\n",
       "\n",
       "    .dataframe tbody tr th {\n",
       "        vertical-align: top;\n",
       "    }\n",
       "\n",
       "    .dataframe thead th {\n",
       "        text-align: right;\n",
       "    }\n",
       "</style>\n",
       "<table border=\"1\" class=\"dataframe\">\n",
       "  <thead>\n",
       "    <tr style=\"text-align: right;\">\n",
       "      <th></th>\n",
       "      <th>Date</th>\n",
       "      <th>Unit</th>\n",
       "      <th>Minimum</th>\n",
       "      <th>Maximum</th>\n",
       "      <th>Average</th>\n",
       "      <th>Market</th>\n",
       "    </tr>\n",
       "  </thead>\n",
       "  <tbody>\n",
       "    <tr>\n",
       "      <th>0</th>\n",
       "      <td>2013-06-16</td>\n",
       "      <td>Kg</td>\n",
       "      <td>26</td>\n",
       "      <td>32</td>\n",
       "      <td>29.0</td>\n",
       "      <td>Tomato</td>\n",
       "    </tr>\n",
       "    <tr>\n",
       "      <th>1</th>\n",
       "      <td>2013-06-17</td>\n",
       "      <td>Kg</td>\n",
       "      <td>20</td>\n",
       "      <td>25</td>\n",
       "      <td>22.5</td>\n",
       "      <td>Tomato</td>\n",
       "    </tr>\n",
       "    <tr>\n",
       "      <th>2</th>\n",
       "      <td>2013-06-18</td>\n",
       "      <td>Kg</td>\n",
       "      <td>22</td>\n",
       "      <td>26</td>\n",
       "      <td>24.0</td>\n",
       "      <td>Tomato</td>\n",
       "    </tr>\n",
       "    <tr>\n",
       "      <th>3</th>\n",
       "      <td>2013-06-19</td>\n",
       "      <td>Kg</td>\n",
       "      <td>24</td>\n",
       "      <td>28</td>\n",
       "      <td>26.0</td>\n",
       "      <td>Tomato</td>\n",
       "    </tr>\n",
       "    <tr>\n",
       "      <th>4</th>\n",
       "      <td>2013-06-20</td>\n",
       "      <td>Kg</td>\n",
       "      <td>22</td>\n",
       "      <td>26</td>\n",
       "      <td>24.0</td>\n",
       "      <td>Tomato</td>\n",
       "    </tr>\n",
       "  </tbody>\n",
       "</table>\n",
       "</div>"
      ],
      "text/plain": [
       "         Date Unit  Minimum  Maximum  Average  Market\n",
       "0  2013-06-16   Kg       26       32     29.0  Tomato\n",
       "1  2013-06-17   Kg       20       25     22.5  Tomato\n",
       "2  2013-06-18   Kg       22       26     24.0  Tomato\n",
       "3  2013-06-19   Kg       24       28     26.0  Tomato\n",
       "4  2013-06-20   Kg       22       26     24.0  Tomato"
      ]
     },
     "execution_count": 2,
     "metadata": {},
     "output_type": "execute_result"
    }
   ],
   "source": [
    "# load dataset and take a look\n",
    "dataset = pd.read_csv(\"/kaggle/input/tomato-daily-prices/Tomato.csv\")\n",
    "dataset.head()"
   ]
  },
  {
   "cell_type": "code",
   "execution_count": 3,
   "id": "7deef560",
   "metadata": {
    "execution": {
     "iopub.execute_input": "2023-03-28T08:31:20.787810Z",
     "iopub.status.busy": "2023-03-28T08:31:20.786584Z",
     "iopub.status.idle": "2023-03-28T08:31:20.792412Z",
     "shell.execute_reply": "2023-03-28T08:31:20.791374Z"
    },
    "papermill": {
     "duration": 0.018005,
     "end_time": "2023-03-28T08:31:20.794903",
     "exception": false,
     "start_time": "2023-03-28T08:31:20.776898",
     "status": "completed"
    },
    "tags": []
   },
   "outputs": [],
   "source": [
    "# changing features name to lowercase\n",
    "dataset.columns = dataset.columns.str.lower()"
   ]
  },
  {
   "cell_type": "code",
   "execution_count": 4,
   "id": "4d011167",
   "metadata": {
    "execution": {
     "iopub.execute_input": "2023-03-28T08:31:20.812287Z",
     "iopub.status.busy": "2023-03-28T08:31:20.811246Z",
     "iopub.status.idle": "2023-03-28T08:31:20.842537Z",
     "shell.execute_reply": "2023-03-28T08:31:20.841360Z"
    },
    "papermill": {
     "duration": 0.043914,
     "end_time": "2023-03-28T08:31:20.846503",
     "exception": false,
     "start_time": "2023-03-28T08:31:20.802589",
     "status": "completed"
    },
    "tags": []
   },
   "outputs": [
    {
     "name": "stdout",
     "output_type": "stream",
     "text": [
      "<class 'pandas.core.frame.DataFrame'>\n",
      "RangeIndex: 2741 entries, 0 to 2740\n",
      "Data columns (total 6 columns):\n",
      " #   Column   Non-Null Count  Dtype  \n",
      "---  ------   --------------  -----  \n",
      " 0   date     2741 non-null   object \n",
      " 1   unit     2741 non-null   object \n",
      " 2   minimum  2741 non-null   int64  \n",
      " 3   maximum  2741 non-null   int64  \n",
      " 4   average  2741 non-null   float64\n",
      " 5   market   2741 non-null   object \n",
      "dtypes: float64(1), int64(2), object(3)\n",
      "memory usage: 128.6+ KB\n"
     ]
    }
   ],
   "source": [
    "# get general information \n",
    "dataset.info()"
   ]
  },
  {
   "cell_type": "code",
   "execution_count": 5,
   "id": "1437393a",
   "metadata": {
    "execution": {
     "iopub.execute_input": "2023-03-28T08:31:20.864082Z",
     "iopub.status.busy": "2023-03-28T08:31:20.863664Z",
     "iopub.status.idle": "2023-03-28T08:31:20.888906Z",
     "shell.execute_reply": "2023-03-28T08:31:20.887901Z"
    },
    "papermill": {
     "duration": 0.036879,
     "end_time": "2023-03-28T08:31:20.891401",
     "exception": false,
     "start_time": "2023-03-28T08:31:20.854522",
     "status": "completed"
    },
    "tags": []
   },
   "outputs": [
    {
     "data": {
      "text/html": [
       "<div>\n",
       "<style scoped>\n",
       "    .dataframe tbody tr th:only-of-type {\n",
       "        vertical-align: middle;\n",
       "    }\n",
       "\n",
       "    .dataframe tbody tr th {\n",
       "        vertical-align: top;\n",
       "    }\n",
       "\n",
       "    .dataframe thead th {\n",
       "        text-align: right;\n",
       "    }\n",
       "</style>\n",
       "<table border=\"1\" class=\"dataframe\">\n",
       "  <thead>\n",
       "    <tr style=\"text-align: right;\">\n",
       "      <th></th>\n",
       "      <th>minimum</th>\n",
       "      <th>maximum</th>\n",
       "      <th>average</th>\n",
       "    </tr>\n",
       "  </thead>\n",
       "  <tbody>\n",
       "    <tr>\n",
       "      <th>count</th>\n",
       "      <td>2741.000000</td>\n",
       "      <td>2741.000000</td>\n",
       "      <td>2741.000000</td>\n",
       "    </tr>\n",
       "    <tr>\n",
       "      <th>mean</th>\n",
       "      <td>35.089748</td>\n",
       "      <td>41.281284</td>\n",
       "      <td>38.185516</td>\n",
       "    </tr>\n",
       "    <tr>\n",
       "      <th>std</th>\n",
       "      <td>16.648425</td>\n",
       "      <td>17.364135</td>\n",
       "      <td>16.970949</td>\n",
       "    </tr>\n",
       "    <tr>\n",
       "      <th>min</th>\n",
       "      <td>8.000000</td>\n",
       "      <td>12.000000</td>\n",
       "      <td>10.000000</td>\n",
       "    </tr>\n",
       "    <tr>\n",
       "      <th>25%</th>\n",
       "      <td>22.000000</td>\n",
       "      <td>30.000000</td>\n",
       "      <td>25.000000</td>\n",
       "    </tr>\n",
       "    <tr>\n",
       "      <th>50%</th>\n",
       "      <td>30.000000</td>\n",
       "      <td>38.000000</td>\n",
       "      <td>35.000000</td>\n",
       "    </tr>\n",
       "    <tr>\n",
       "      <th>75%</th>\n",
       "      <td>45.000000</td>\n",
       "      <td>50.000000</td>\n",
       "      <td>47.500000</td>\n",
       "    </tr>\n",
       "    <tr>\n",
       "      <th>max</th>\n",
       "      <td>115.000000</td>\n",
       "      <td>120.000000</td>\n",
       "      <td>117.500000</td>\n",
       "    </tr>\n",
       "  </tbody>\n",
       "</table>\n",
       "</div>"
      ],
      "text/plain": [
       "           minimum      maximum      average\n",
       "count  2741.000000  2741.000000  2741.000000\n",
       "mean     35.089748    41.281284    38.185516\n",
       "std      16.648425    17.364135    16.970949\n",
       "min       8.000000    12.000000    10.000000\n",
       "25%      22.000000    30.000000    25.000000\n",
       "50%      30.000000    38.000000    35.000000\n",
       "75%      45.000000    50.000000    47.500000\n",
       "max     115.000000   120.000000   117.500000"
      ]
     },
     "execution_count": 5,
     "metadata": {},
     "output_type": "execute_result"
    }
   ],
   "source": [
    "# get statistical information\n",
    "dataset.describe()"
   ]
  },
  {
   "cell_type": "code",
   "execution_count": 6,
   "id": "26508fab",
   "metadata": {
    "execution": {
     "iopub.execute_input": "2023-03-28T08:31:20.908869Z",
     "iopub.status.busy": "2023-03-28T08:31:20.908191Z",
     "iopub.status.idle": "2023-03-28T08:31:20.918646Z",
     "shell.execute_reply": "2023-03-28T08:31:20.917261Z"
    },
    "papermill": {
     "duration": 0.022544,
     "end_time": "2023-03-28T08:31:20.921599",
     "exception": false,
     "start_time": "2023-03-28T08:31:20.899055",
     "status": "completed"
    },
    "tags": []
   },
   "outputs": [
    {
     "data": {
      "text/plain": [
       "date       0\n",
       "unit       0\n",
       "minimum    0\n",
       "maximum    0\n",
       "average    0\n",
       "market     0\n",
       "dtype: int64"
      ]
     },
     "execution_count": 6,
     "metadata": {},
     "output_type": "execute_result"
    }
   ],
   "source": [
    "# check null values\n",
    "dataset.isna().sum()\n",
    "\n",
    "# result - no null records present"
   ]
  },
  {
   "cell_type": "code",
   "execution_count": 7,
   "id": "51caacbb",
   "metadata": {
    "execution": {
     "iopub.execute_input": "2023-03-28T08:31:20.940378Z",
     "iopub.status.busy": "2023-03-28T08:31:20.939853Z",
     "iopub.status.idle": "2023-03-28T08:31:20.952259Z",
     "shell.execute_reply": "2023-03-28T08:31:20.951174Z"
    },
    "papermill": {
     "duration": 0.02466,
     "end_time": "2023-03-28T08:31:20.954837",
     "exception": false,
     "start_time": "2023-03-28T08:31:20.930177",
     "status": "completed"
    },
    "tags": []
   },
   "outputs": [
    {
     "data": {
      "text/plain": [
       "0"
      ]
     },
     "execution_count": 7,
     "metadata": {},
     "output_type": "execute_result"
    }
   ],
   "source": [
    "# check duplicate records\n",
    "dataset.duplicated().sum()\n",
    "\n",
    "# result - no duplicate records found"
   ]
  },
  {
   "cell_type": "code",
   "execution_count": 8,
   "id": "af1bda66",
   "metadata": {
    "execution": {
     "iopub.execute_input": "2023-03-28T08:31:20.973799Z",
     "iopub.status.busy": "2023-03-28T08:31:20.972461Z",
     "iopub.status.idle": "2023-03-28T08:31:20.982160Z",
     "shell.execute_reply": "2023-03-28T08:31:20.980875Z"
    },
    "papermill": {
     "duration": 0.022301,
     "end_time": "2023-03-28T08:31:20.985135",
     "exception": false,
     "start_time": "2023-03-28T08:31:20.962834",
     "status": "completed"
    },
    "tags": []
   },
   "outputs": [],
   "source": [
    "# convert date column from object to datetime object\n",
    "dataset.date = pd.to_datetime(dataset.date)"
   ]
  },
  {
   "cell_type": "code",
   "execution_count": 9,
   "id": "d0bd0310",
   "metadata": {
    "execution": {
     "iopub.execute_input": "2023-03-28T08:31:21.003235Z",
     "iopub.status.busy": "2023-03-28T08:31:21.002834Z",
     "iopub.status.idle": "2023-03-28T08:31:21.010929Z",
     "shell.execute_reply": "2023-03-28T08:31:21.009509Z"
    },
    "papermill": {
     "duration": 0.02011,
     "end_time": "2023-03-28T08:31:21.013223",
     "exception": false,
     "start_time": "2023-03-28T08:31:20.993113",
     "status": "completed"
    },
    "tags": []
   },
   "outputs": [],
   "source": [
    "# feature segregation\n",
    "x_min = dataset[['date', 'minimum']]\n",
    "x_min.columns = ['ds', 'y']\n",
    "x_max = dataset[['date', 'maximum']]\n",
    "x_max.columns = ['ds', 'y']"
   ]
  },
  {
   "cell_type": "code",
   "execution_count": 10,
   "id": "1877f697",
   "metadata": {
    "execution": {
     "iopub.execute_input": "2023-03-28T08:31:21.031861Z",
     "iopub.status.busy": "2023-03-28T08:31:21.030672Z",
     "iopub.status.idle": "2023-03-28T08:31:24.915886Z",
     "shell.execute_reply": "2023-03-28T08:31:24.914402Z"
    },
    "papermill": {
     "duration": 3.897082,
     "end_time": "2023-03-28T08:31:24.918371",
     "exception": false,
     "start_time": "2023-03-28T08:31:21.021289",
     "status": "completed"
    },
    "tags": []
   },
   "outputs": [
    {
     "name": "stdout",
     "output_type": "stream",
     "text": [
      "Initial log joint probability = -33.3997\n",
      "    Iter      log prob        ||dx||      ||grad||       alpha      alpha0  # evals  Notes \n",
      "      99       4401.94   0.000415882       85.3299           1           1      113   \n",
      "    Iter      log prob        ||dx||      ||grad||       alpha      alpha0  # evals  Notes \n",
      "     117       4402.72   0.000376785       113.854   2.937e-06       0.001      169  LS failed, Hessian reset \n",
      "     199       4404.21     0.0103551       84.9582           1           1      273   \n",
      "    Iter      log prob        ||dx||      ||grad||       alpha      alpha0  # evals  Notes \n",
      "     204       4405.19    0.00784704       436.878   6.579e-05       0.001      327  LS failed, Hessian reset \n",
      "     299       4407.03   0.000492758       67.6054           1           1      444   \n",
      "    Iter      log prob        ||dx||      ||grad||       alpha      alpha0  # evals  Notes \n",
      "     348       4407.06   6.71768e-06       80.8121   1.103e-07       0.001      548  LS failed, Hessian reset \n",
      "     399       4407.11    0.00135621       93.4261           1           1      608   \n",
      "    Iter      log prob        ||dx||      ||grad||       alpha      alpha0  # evals  Notes \n",
      "     499       4407.43   0.000185501       63.7646           1           1      732   \n",
      "    Iter      log prob        ||dx||      ||grad||       alpha      alpha0  # evals  Notes \n",
      "     582        4408.3    0.00234305       137.809    1.75e-05       0.001      864  LS failed, Hessian reset \n",
      "     599       4408.48   6.48137e-05       69.7096      0.4925      0.4925      887   \n",
      "    Iter      log prob        ||dx||      ||grad||       alpha      alpha0  # evals  Notes \n",
      "     699       4408.76   0.000129859       81.7844           1           1     1011   \n",
      "    Iter      log prob        ||dx||      ||grad||       alpha      alpha0  # evals  Notes \n",
      "     760       4408.78   9.30865e-07       71.8448      0.2089      0.9521     1080   \n",
      "Optimization terminated normally: \n",
      "  Convergence detected: relative gradient magnitude is below tolerance\n",
      "Initial log joint probability = -33.6908\n",
      "    Iter      log prob        ||dx||      ||grad||       alpha      alpha0  # evals  Notes \n",
      "      99       4422.93      0.018509       156.642      0.2151      0.2151      114   \n",
      "    Iter      log prob        ||dx||      ||grad||       alpha      alpha0  # evals  Notes \n",
      "     199       4426.63   0.000107905       78.8634       1.799      0.5781      254   \n",
      "    Iter      log prob        ||dx||      ||grad||       alpha      alpha0  # evals  Notes \n",
      "     225       4426.64   1.72644e-07       70.4395      0.3785           1      294   \n",
      "Optimization terminated normally: \n",
      "  Convergence detected: relative gradient magnitude is below tolerance\n"
     ]
    },
    {
     "data": {
      "text/plain": [
       "<fbprophet.forecaster.Prophet at 0x7fd0e5d1c090>"
      ]
     },
     "execution_count": 10,
     "metadata": {},
     "output_type": "execute_result"
    }
   ],
   "source": [
    "# create prophet model\n",
    "# for minimum price\n",
    "model_min = Prophet()\n",
    "model_min.add_seasonality(name = 'monthly', period = 30.5, fourier_order = 5)\n",
    "model_min.fit(x_min)\n",
    "\n",
    "# for maximum price\n",
    "model_max = Prophet()\n",
    "model_max.add_seasonality(name = 'monthly', period = 30.5, fourier_order = 5)\n",
    "model_max.fit(x_max)"
   ]
  },
  {
   "cell_type": "code",
   "execution_count": 11,
   "id": "8e651e3f",
   "metadata": {
    "execution": {
     "iopub.execute_input": "2023-03-28T08:31:24.937386Z",
     "iopub.status.busy": "2023-03-28T08:31:24.936983Z",
     "iopub.status.idle": "2023-03-28T08:31:36.389063Z",
     "shell.execute_reply": "2023-03-28T08:31:36.388108Z"
    },
    "papermill": {
     "duration": 11.46524,
     "end_time": "2023-03-28T08:31:36.391954",
     "exception": false,
     "start_time": "2023-03-28T08:31:24.926714",
     "status": "completed"
    },
    "tags": []
   },
   "outputs": [],
   "source": [
    "future_dates = model_min.make_future_dataframe(periods=10)\n",
    "forecast_min= model_min.predict(future_dates)\n",
    "future_dates = model_max.make_future_dataframe(periods=10)\n",
    "forecast_max= model_max.predict(future_dates)"
   ]
  },
  {
   "cell_type": "code",
   "execution_count": 12,
   "id": "f8ef0413",
   "metadata": {
    "execution": {
     "iopub.execute_input": "2023-03-28T08:31:36.411242Z",
     "iopub.status.busy": "2023-03-28T08:31:36.410826Z",
     "iopub.status.idle": "2023-03-28T08:31:36.436940Z",
     "shell.execute_reply": "2023-03-28T08:31:36.435629Z"
    },
    "papermill": {
     "duration": 0.038347,
     "end_time": "2023-03-28T08:31:36.439544",
     "exception": false,
     "start_time": "2023-03-28T08:31:36.401197",
     "status": "completed"
    },
    "tags": []
   },
   "outputs": [
    {
     "data": {
      "text/html": [
       "<div>\n",
       "<style scoped>\n",
       "    .dataframe tbody tr th:only-of-type {\n",
       "        vertical-align: middle;\n",
       "    }\n",
       "\n",
       "    .dataframe tbody tr th {\n",
       "        vertical-align: top;\n",
       "    }\n",
       "\n",
       "    .dataframe thead th {\n",
       "        text-align: right;\n",
       "    }\n",
       "</style>\n",
       "<table border=\"1\" class=\"dataframe\">\n",
       "  <thead>\n",
       "    <tr style=\"text-align: right;\">\n",
       "      <th></th>\n",
       "      <th>date</th>\n",
       "      <th>minimum</th>\n",
       "      <th>maximum</th>\n",
       "    </tr>\n",
       "  </thead>\n",
       "  <tbody>\n",
       "    <tr>\n",
       "      <th>0</th>\n",
       "      <td>2013-06-16</td>\n",
       "      <td>29.458167</td>\n",
       "      <td>34.181592</td>\n",
       "    </tr>\n",
       "    <tr>\n",
       "      <th>1</th>\n",
       "      <td>2013-06-17</td>\n",
       "      <td>28.270112</td>\n",
       "      <td>33.103064</td>\n",
       "    </tr>\n",
       "    <tr>\n",
       "      <th>2</th>\n",
       "      <td>2013-06-18</td>\n",
       "      <td>27.034868</td>\n",
       "      <td>31.925124</td>\n",
       "    </tr>\n",
       "    <tr>\n",
       "      <th>3</th>\n",
       "      <td>2013-06-19</td>\n",
       "      <td>26.704897</td>\n",
       "      <td>31.398944</td>\n",
       "    </tr>\n",
       "    <tr>\n",
       "      <th>4</th>\n",
       "      <td>2013-06-20</td>\n",
       "      <td>25.779824</td>\n",
       "      <td>30.491236</td>\n",
       "    </tr>\n",
       "    <tr>\n",
       "      <th>5</th>\n",
       "      <td>2013-06-21</td>\n",
       "      <td>25.705744</td>\n",
       "      <td>30.332745</td>\n",
       "    </tr>\n",
       "    <tr>\n",
       "      <th>6</th>\n",
       "      <td>2013-06-25</td>\n",
       "      <td>24.284865</td>\n",
       "      <td>29.024184</td>\n",
       "    </tr>\n",
       "    <tr>\n",
       "      <th>7</th>\n",
       "      <td>2013-06-26</td>\n",
       "      <td>24.847610</td>\n",
       "      <td>29.362481</td>\n",
       "    </tr>\n",
       "    <tr>\n",
       "      <th>8</th>\n",
       "      <td>2013-06-27</td>\n",
       "      <td>24.271802</td>\n",
       "      <td>28.853426</td>\n",
       "    </tr>\n",
       "    <tr>\n",
       "      <th>9</th>\n",
       "      <td>2013-06-28</td>\n",
       "      <td>24.125220</td>\n",
       "      <td>28.673612</td>\n",
       "    </tr>\n",
       "  </tbody>\n",
       "</table>\n",
       "</div>"
      ],
      "text/plain": [
       "        date    minimum    maximum\n",
       "0 2013-06-16  29.458167  34.181592\n",
       "1 2013-06-17  28.270112  33.103064\n",
       "2 2013-06-18  27.034868  31.925124\n",
       "3 2013-06-19  26.704897  31.398944\n",
       "4 2013-06-20  25.779824  30.491236\n",
       "5 2013-06-21  25.705744  30.332745\n",
       "6 2013-06-25  24.284865  29.024184\n",
       "7 2013-06-26  24.847610  29.362481\n",
       "8 2013-06-27  24.271802  28.853426\n",
       "9 2013-06-28  24.125220  28.673612"
      ]
     },
     "execution_count": 12,
     "metadata": {},
     "output_type": "execute_result"
    }
   ],
   "source": [
    "# take necessary columns and create result dataframe\n",
    "next_10_day_min = forecast_min[['ds', 'yhat']]\n",
    "next_10_day_min.columns = ['date', 'minimum']\n",
    "next_10_day_max = forecast_max[['ds', 'yhat']]\n",
    "next_10_day_max.columns = ['date', 'maximum']\n",
    "\n",
    "next_10_days = pd.merge(next_10_day_min, next_10_day_max, on = 'date')\n",
    "next_10_days.head(10)"
   ]
  },
  {
   "cell_type": "code",
   "execution_count": 13,
   "id": "bb27638c",
   "metadata": {
    "execution": {
     "iopub.execute_input": "2023-03-28T08:31:36.458948Z",
     "iopub.status.busy": "2023-03-28T08:31:36.458259Z",
     "iopub.status.idle": "2023-03-28T08:31:36.473056Z",
     "shell.execute_reply": "2023-03-28T08:31:36.471256Z"
    },
    "papermill": {
     "duration": 0.028077,
     "end_time": "2023-03-28T08:31:36.476173",
     "exception": false,
     "start_time": "2023-03-28T08:31:36.448096",
     "status": "completed"
    },
    "tags": []
   },
   "outputs": [],
   "source": [
    "# ceil and floor \n",
    "import math\n",
    "next_10_days.minimum = next_10_days.minimum.apply(lambda x: math.floor(x))\n",
    "next_10_days.maximum = next_10_days.maximum.apply(lambda x: math.ceil(x))\n",
    "next_10_days['average'] = next_10_days[['minimum', 'maximum']].mean(axis = 1)\n",
    "next_10_days['unit'] = 'Kg'\n",
    "next_10_days['market'] = 'Tomato'"
   ]
  },
  {
   "cell_type": "code",
   "execution_count": 14,
   "id": "81ce7c73",
   "metadata": {
    "execution": {
     "iopub.execute_input": "2023-03-28T08:31:36.496362Z",
     "iopub.status.busy": "2023-03-28T08:31:36.495431Z",
     "iopub.status.idle": "2023-03-28T08:31:36.503251Z",
     "shell.execute_reply": "2023-03-28T08:31:36.501990Z"
    },
    "papermill": {
     "duration": 0.020319,
     "end_time": "2023-03-28T08:31:36.505675",
     "exception": false,
     "start_time": "2023-03-28T08:31:36.485356",
     "status": "completed"
    },
    "tags": []
   },
   "outputs": [],
   "source": [
    "# change format of columns\n",
    "next_10_days = next_10_days[[\"date\", \"unit\", \"minimum\", \"maximum\", \"average\", \"market\"]]\n",
    "next_10_days.columns = next_10_days.columns.str.title()"
   ]
  },
  {
   "cell_type": "code",
   "execution_count": 15,
   "id": "8b5d983c",
   "metadata": {
    "execution": {
     "iopub.execute_input": "2023-03-28T08:31:36.525469Z",
     "iopub.status.busy": "2023-03-28T08:31:36.524322Z",
     "iopub.status.idle": "2023-03-28T08:31:36.539841Z",
     "shell.execute_reply": "2023-03-28T08:31:36.538629Z"
    },
    "papermill": {
     "duration": 0.029296,
     "end_time": "2023-03-28T08:31:36.543803",
     "exception": false,
     "start_time": "2023-03-28T08:31:36.514507",
     "status": "completed"
    },
    "tags": []
   },
   "outputs": [
    {
     "data": {
      "text/html": [
       "<div>\n",
       "<style scoped>\n",
       "    .dataframe tbody tr th:only-of-type {\n",
       "        vertical-align: middle;\n",
       "    }\n",
       "\n",
       "    .dataframe tbody tr th {\n",
       "        vertical-align: top;\n",
       "    }\n",
       "\n",
       "    .dataframe thead th {\n",
       "        text-align: right;\n",
       "    }\n",
       "</style>\n",
       "<table border=\"1\" class=\"dataframe\">\n",
       "  <thead>\n",
       "    <tr style=\"text-align: right;\">\n",
       "      <th></th>\n",
       "      <th>Date</th>\n",
       "      <th>Unit</th>\n",
       "      <th>Minimum</th>\n",
       "      <th>Maximum</th>\n",
       "      <th>Average</th>\n",
       "      <th>Market</th>\n",
       "    </tr>\n",
       "  </thead>\n",
       "  <tbody>\n",
       "    <tr>\n",
       "      <th>0</th>\n",
       "      <td>2013-06-16</td>\n",
       "      <td>Kg</td>\n",
       "      <td>29</td>\n",
       "      <td>35</td>\n",
       "      <td>32.0</td>\n",
       "      <td>Tomato</td>\n",
       "    </tr>\n",
       "    <tr>\n",
       "      <th>1</th>\n",
       "      <td>2013-06-17</td>\n",
       "      <td>Kg</td>\n",
       "      <td>28</td>\n",
       "      <td>34</td>\n",
       "      <td>31.0</td>\n",
       "      <td>Tomato</td>\n",
       "    </tr>\n",
       "    <tr>\n",
       "      <th>2</th>\n",
       "      <td>2013-06-18</td>\n",
       "      <td>Kg</td>\n",
       "      <td>27</td>\n",
       "      <td>32</td>\n",
       "      <td>29.5</td>\n",
       "      <td>Tomato</td>\n",
       "    </tr>\n",
       "    <tr>\n",
       "      <th>3</th>\n",
       "      <td>2013-06-19</td>\n",
       "      <td>Kg</td>\n",
       "      <td>26</td>\n",
       "      <td>32</td>\n",
       "      <td>29.0</td>\n",
       "      <td>Tomato</td>\n",
       "    </tr>\n",
       "    <tr>\n",
       "      <th>4</th>\n",
       "      <td>2013-06-20</td>\n",
       "      <td>Kg</td>\n",
       "      <td>25</td>\n",
       "      <td>31</td>\n",
       "      <td>28.0</td>\n",
       "      <td>Tomato</td>\n",
       "    </tr>\n",
       "    <tr>\n",
       "      <th>5</th>\n",
       "      <td>2013-06-21</td>\n",
       "      <td>Kg</td>\n",
       "      <td>25</td>\n",
       "      <td>31</td>\n",
       "      <td>28.0</td>\n",
       "      <td>Tomato</td>\n",
       "    </tr>\n",
       "    <tr>\n",
       "      <th>6</th>\n",
       "      <td>2013-06-25</td>\n",
       "      <td>Kg</td>\n",
       "      <td>24</td>\n",
       "      <td>30</td>\n",
       "      <td>27.0</td>\n",
       "      <td>Tomato</td>\n",
       "    </tr>\n",
       "    <tr>\n",
       "      <th>7</th>\n",
       "      <td>2013-06-26</td>\n",
       "      <td>Kg</td>\n",
       "      <td>24</td>\n",
       "      <td>30</td>\n",
       "      <td>27.0</td>\n",
       "      <td>Tomato</td>\n",
       "    </tr>\n",
       "    <tr>\n",
       "      <th>8</th>\n",
       "      <td>2013-06-27</td>\n",
       "      <td>Kg</td>\n",
       "      <td>24</td>\n",
       "      <td>29</td>\n",
       "      <td>26.5</td>\n",
       "      <td>Tomato</td>\n",
       "    </tr>\n",
       "    <tr>\n",
       "      <th>9</th>\n",
       "      <td>2013-06-28</td>\n",
       "      <td>Kg</td>\n",
       "      <td>24</td>\n",
       "      <td>29</td>\n",
       "      <td>26.5</td>\n",
       "      <td>Tomato</td>\n",
       "    </tr>\n",
       "  </tbody>\n",
       "</table>\n",
       "</div>"
      ],
      "text/plain": [
       "        Date Unit  Minimum  Maximum  Average  Market\n",
       "0 2013-06-16   Kg       29       35     32.0  Tomato\n",
       "1 2013-06-17   Kg       28       34     31.0  Tomato\n",
       "2 2013-06-18   Kg       27       32     29.5  Tomato\n",
       "3 2013-06-19   Kg       26       32     29.0  Tomato\n",
       "4 2013-06-20   Kg       25       31     28.0  Tomato\n",
       "5 2013-06-21   Kg       25       31     28.0  Tomato\n",
       "6 2013-06-25   Kg       24       30     27.0  Tomato\n",
       "7 2013-06-26   Kg       24       30     27.0  Tomato\n",
       "8 2013-06-27   Kg       24       29     26.5  Tomato\n",
       "9 2013-06-28   Kg       24       29     26.5  Tomato"
      ]
     },
     "execution_count": 15,
     "metadata": {},
     "output_type": "execute_result"
    }
   ],
   "source": [
    "# result\n",
    "next_10_days.head(10)"
   ]
  },
  {
   "cell_type": "code",
   "execution_count": 16,
   "id": "4a766bda",
   "metadata": {
    "execution": {
     "iopub.execute_input": "2023-03-28T08:31:36.563559Z",
     "iopub.status.busy": "2023-03-28T08:31:36.563137Z",
     "iopub.status.idle": "2023-03-28T08:31:36.568051Z",
     "shell.execute_reply": "2023-03-28T08:31:36.566785Z"
    },
    "papermill": {
     "duration": 0.017678,
     "end_time": "2023-03-28T08:31:36.570735",
     "exception": false,
     "start_time": "2023-03-28T08:31:36.553057",
     "status": "completed"
    },
    "tags": []
   },
   "outputs": [],
   "source": [
    "# done"
   ]
  }
 ],
 "metadata": {
  "kernelspec": {
   "display_name": "Python 3",
   "language": "python",
   "name": "python3"
  },
  "language_info": {
   "codemirror_mode": {
    "name": "ipython",
    "version": 3
   },
   "file_extension": ".py",
   "mimetype": "text/x-python",
   "name": "python",
   "nbconvert_exporter": "python",
   "pygments_lexer": "ipython3",
   "version": "3.7.12"
  },
  "papermill": {
   "default_parameters": {},
   "duration": 182.903698,
   "end_time": "2023-03-28T08:31:37.404401",
   "environment_variables": {},
   "exception": null,
   "input_path": "__notebook__.ipynb",
   "output_path": "__notebook__.ipynb",
   "parameters": {},
   "start_time": "2023-03-28T08:28:34.500703",
   "version": "2.4.0"
  }
 },
 "nbformat": 4,
 "nbformat_minor": 5
}
